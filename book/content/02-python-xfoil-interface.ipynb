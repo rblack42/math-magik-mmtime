{
 "cells": [
  {
   "cell_type": "markdown",
   "id": "18c6f656",
   "metadata": {},
   "source": [
    "# Python XFoil Interface"
   ]
  },
  {
   "cell_type": "markdown",
   "id": "845797ad",
   "metadata": {},
   "source": [
    "As the article was written, I compiled Mark Drela's latest version of *XFoil* using **gfortran** on my Mac, and ran my airfoil analyses using the command line. In the middle of the project, I came across a version of *XFoil* put together by researchers at the *DAR Corporation*. This version removed the graphics components from the original code, and converted the code to a more modern version of *Fortran*. The end result is a library of routines that can be called from *Python*. \n",
    "\n",
    "In this section, we will walk through building an example library of *Fortran* code and accessing it from *Python*."
   ]
  },
  {
   "cell_type": "code",
   "execution_count": 3,
   "id": "eed642a0",
   "metadata": {},
   "outputs": [
    {
     "name": "stdout",
     "output_type": "stream",
     "text": [
      "Overwriting ../tmp/double.f90\n"
     ]
    }
   ],
   "source": [
    "%%writefile ../tmp/double.f90\n",
    "\n",
    "function double(n) result(result)\n",
    "  implicit none\n",
    "  integer, intent(in) :: n\n",
    "  integer :: result\n",
    "\n",
    "  result = n * 2\n",
    "end function double"
   ]
  },
  {
   "cell_type": "code",
   "execution_count": 4,
   "id": "1404be35",
   "metadata": {},
   "outputs": [],
   "source": [
    "!gfortran -c ../tmp/double.f90 -o ../tmp/double.o"
   ]
  },
  {
   "cell_type": "code",
   "execution_count": 6,
   "id": "56475a61",
   "metadata": {},
   "outputs": [],
   "source": [
    "!gfortran ../tmp/double.o -dynamiclib -o ../tmp/double.dylib"
   ]
  },
  {
   "cell_type": "markdown",
   "id": "1d9d7a75",
   "metadata": {},
   "source": [
    "Now, let's try to load this library.\n",
    "\n",
    "First, we find the **tmp** directory:"
   ]
  },
  {
   "cell_type": "code",
   "execution_count": 8,
   "id": "65116ded",
   "metadata": {},
   "outputs": [],
   "source": [
    "import os\n",
    "libdir = os.path.abspath('../tmp')\n",
    "libpath = os.path.join(libdir,'double.dylib')"
   ]
  },
  {
   "cell_type": "code",
   "execution_count": 9,
   "id": "92d54bc6",
   "metadata": {},
   "outputs": [
    {
     "data": {
      "text/plain": [
       "'.dylib'"
      ]
     },
     "execution_count": 9,
     "metadata": {},
     "output_type": "execute_result"
    }
   ],
   "source": [
    "lib_ext = libpath[libpath.rfind('.'):]\n",
    "lib_ext"
   ]
  },
  {
   "cell_type": "markdown",
   "id": "ea43c87b",
   "metadata": {},
   "source": [
    "We need to access a few routines from the *Python* **ctypes** library, then we can load the library:"
   ]
  },
  {
   "cell_type": "code",
   "execution_count": null,
   "id": "63a3d771",
   "metadata": {},
   "outputs": [],
   "source": [
    "from ctypes import cdll, c_int, POINTER, byref\n",
    "lib = cdll.LoadLibrary(libpath)"
   ]
  },
  {
   "cell_type": "markdown",
   "id": "f738fcc1",
   "metadata": {},
   "source": [
    "*Fortran passes arguments as references. We need to set the argument and result types:"
   ]
  },
  {
   "cell_type": "code",
   "execution_count": 23,
   "id": "5f45c3ba",
   "metadata": {},
   "outputs": [],
   "source": [
    "lib.double_.argtypes = [POINTER(c_int)]\n",
    "lib.double_.restype = c_int"
   ]
  },
  {
   "cell_type": "markdown",
   "id": "9d15fcc6",
   "metadata": {},
   "source": [
    "Now we can access the fortran function. We cannot just pass a Python data value, we need to convert the *Python* value into a **ctype**, and use the **byref** function to prepare it for *Fortran*:"
   ]
  },
  {
   "cell_type": "code",
   "execution_count": 24,
   "id": "2878a812",
   "metadata": {},
   "outputs": [
    {
     "name": "stdout",
     "output_type": "stream",
     "text": [
      "4\n"
     ]
    }
   ],
   "source": [
    "n = c_int(2)\n",
    "print(lib.double_(byref(n)))"
   ]
  },
  {
   "cell_type": "markdown",
   "id": "ab2c5041",
   "metadata": {},
   "source": [
    "Now that this process works, let's try to process an array of values and get a value back:\n"
   ]
  },
  {
   "cell_type": "code",
   "execution_count": 25,
   "id": "62676c2c",
   "metadata": {},
   "outputs": [
    {
     "name": "stdout",
     "output_type": "stream",
     "text": [
      "Writing ../tmp/vector_norm.f90\n"
     ]
    }
   ],
   "source": [
    "%%writefile ../tmp/vector_norm.f90\n",
    "\n",
    "function vector_norm(n,vec) result(norm)\n",
    "  implicit none\n",
    "  integer, intent(in) :: n\n",
    "  real, intent(in) :: vec(n)\n",
    "  real :: norm\n",
    "\n",
    "  norm = sqrt(sum(vec**2))\n",
    "\n",
    "end function vector_norm"
   ]
  },
  {
   "cell_type": "code",
   "execution_count": 27,
   "id": "08fce973",
   "metadata": {},
   "outputs": [
    {
     "name": "stdout",
     "output_type": "stream",
     "text": [
      "\u001b[39mrunning build\u001b[0m\n",
      "\u001b[39mrunning config_cc\u001b[0m\n",
      "\u001b[39mINFO: unifing config_cc, config, build_clib, build_ext, build commands --compiler options\u001b[0m\n",
      "\u001b[39mrunning config_fc\u001b[0m\n",
      "\u001b[39mINFO: unifing config_fc, config, build_clib, build_ext, build commands --fcompiler options\u001b[0m\n",
      "\u001b[39mrunning build_src\u001b[0m\n",
      "\u001b[39mINFO: build_src\u001b[0m\n",
      "\u001b[39mINFO: building extension \"norm1\" sources\u001b[0m\n",
      "\u001b[39mINFO: f2py options: []\u001b[0m\n",
      "\u001b[39mINFO: f2py:> /var/folders/ws/5h_x4h713cg8w0jmrm5_tfzc0000gn/T/tmpv7hb703u/src.macosx-12-x86_64-3.10/norm1module.c\u001b[0m\n",
      "\u001b[39mcreating /var/folders/ws/5h_x4h713cg8w0jmrm5_tfzc0000gn/T/tmpv7hb703u/src.macosx-12-x86_64-3.10\u001b[0m\n",
      "Reading fortran codes...\n",
      "\tReading file '../tmp/vector_norm.f90' (format:free)\n",
      "Post-processing...\n",
      "\tBlock: norm1\n",
      "\t\t\tBlock: vector_norm\n",
      "Post-processing (stage 2)...\n",
      "Building modules...\n",
      "    Building module \"norm1\"...\n",
      "\t\tCreating wrapper for Fortran function \"vector_norm\"(\"vector_norm\")...\n",
      "        Constructing wrapper function \"vector_norm\"...\n",
      "          norm = vector_norm(vec,[n])\n",
      "    Wrote C/API module \"norm1\" to file \"/var/folders/ws/5h_x4h713cg8w0jmrm5_tfzc0000gn/T/tmpv7hb703u/src.macosx-12-x86_64-3.10/norm1module.c\"\n",
      "    Fortran 77 wrappers are saved to \"/var/folders/ws/5h_x4h713cg8w0jmrm5_tfzc0000gn/T/tmpv7hb703u/src.macosx-12-x86_64-3.10/norm1-f2pywrappers.f\"\n",
      "\u001b[39mINFO:   adding '/var/folders/ws/5h_x4h713cg8w0jmrm5_tfzc0000gn/T/tmpv7hb703u/src.macosx-12-x86_64-3.10/fortranobject.c' to sources.\u001b[0m\n",
      "\u001b[39mINFO:   adding '/var/folders/ws/5h_x4h713cg8w0jmrm5_tfzc0000gn/T/tmpv7hb703u/src.macosx-12-x86_64-3.10' to include_dirs.\u001b[0m\n",
      "\u001b[39mcopying /Users/rblack/_dev/math-magik-mmtime/.direnv/python-3.10.4/lib/python3.10/site-packages/numpy/f2py/src/fortranobject.c -> /var/folders/ws/5h_x4h713cg8w0jmrm5_tfzc0000gn/T/tmpv7hb703u/src.macosx-12-x86_64-3.10\u001b[0m\n",
      "\u001b[39mcopying /Users/rblack/_dev/math-magik-mmtime/.direnv/python-3.10.4/lib/python3.10/site-packages/numpy/f2py/src/fortranobject.h -> /var/folders/ws/5h_x4h713cg8w0jmrm5_tfzc0000gn/T/tmpv7hb703u/src.macosx-12-x86_64-3.10\u001b[0m\n",
      "\u001b[39mINFO:   adding '/var/folders/ws/5h_x4h713cg8w0jmrm5_tfzc0000gn/T/tmpv7hb703u/src.macosx-12-x86_64-3.10/norm1-f2pywrappers.f' to sources.\u001b[0m\n",
      "\u001b[39mINFO: build_src: building npy-pkg config files\u001b[0m\n",
      "/Users/rblack/_dev/math-magik-mmtime/.direnv/python-3.10.4/lib/python3.10/site-packages/setuptools/command/install.py:34: SetuptoolsDeprecationWarning: setup.py install is deprecated. Use build and pip and other standards-based tools.\n",
      "  warnings.warn(\n",
      "\u001b[39mrunning build_ext\u001b[0m\n",
      "\u001b[39mINFO: customize UnixCCompiler\u001b[0m\n",
      "\u001b[39mINFO: customize UnixCCompiler using build_ext\u001b[0m\n",
      "\u001b[39mINFO: get_default_fcompiler: matching types: '['gnu95', 'nag', 'nagfor', 'absoft', 'ibm', 'intel', 'gnu', 'g95', 'pg']'\u001b[0m\n",
      "\u001b[39mINFO: customize Gnu95FCompiler\u001b[0m\n",
      "\u001b[39mINFO: Found executable /usr/local/bin/gfortran\u001b[0m\n",
      "\u001b[39mINFO: customize Gnu95FCompiler\u001b[0m\n",
      "\u001b[39mINFO: customize Gnu95FCompiler using build_ext\u001b[0m\n",
      "\u001b[39mINFO: building 'norm1' extension\u001b[0m\n",
      "\u001b[39mINFO: compiling C sources\u001b[0m\n",
      "\u001b[39mINFO: C compiler: clang -Wno-unused-result -Wsign-compare -Wunreachable-code -fno-common -dynamic -DNDEBUG -g -fwrapv -O3 -Wall -isysroot /Library/Developer/CommandLineTools/SDKs/MacOSX12.sdk -ftrapping-math\n",
      "\u001b[0m\n",
      "\u001b[39mcreating /var/folders/ws/5h_x4h713cg8w0jmrm5_tfzc0000gn/T/tmpv7hb703u/var\u001b[0m\n",
      "\u001b[39mcreating /var/folders/ws/5h_x4h713cg8w0jmrm5_tfzc0000gn/T/tmpv7hb703u/var/folders\u001b[0m\n",
      "\u001b[39mcreating /var/folders/ws/5h_x4h713cg8w0jmrm5_tfzc0000gn/T/tmpv7hb703u/var/folders/ws\u001b[0m\n",
      "\u001b[39mcreating /var/folders/ws/5h_x4h713cg8w0jmrm5_tfzc0000gn/T/tmpv7hb703u/var/folders/ws/5h_x4h713cg8w0jmrm5_tfzc0000gn\u001b[0m\n",
      "\u001b[39mcreating /var/folders/ws/5h_x4h713cg8w0jmrm5_tfzc0000gn/T/tmpv7hb703u/var/folders/ws/5h_x4h713cg8w0jmrm5_tfzc0000gn/T\u001b[0m\n",
      "\u001b[39mcreating /var/folders/ws/5h_x4h713cg8w0jmrm5_tfzc0000gn/T/tmpv7hb703u/var/folders/ws/5h_x4h713cg8w0jmrm5_tfzc0000gn/T/tmpv7hb703u\u001b[0m\n",
      "\u001b[39mcreating /var/folders/ws/5h_x4h713cg8w0jmrm5_tfzc0000gn/T/tmpv7hb703u/var/folders/ws/5h_x4h713cg8w0jmrm5_tfzc0000gn/T/tmpv7hb703u/src.macosx-12-x86_64-3.10\u001b[0m\n",
      "\u001b[39mINFO: compile options: '-DNPY_DISABLE_OPTIMIZATION=1 -I/var/folders/ws/5h_x4h713cg8w0jmrm5_tfzc0000gn/T/tmpv7hb703u/src.macosx-12-x86_64-3.10 -I/Users/rblack/_dev/math-magik-mmtime/.direnv/python-3.10.4/lib/python3.10/site-packages/numpy/core/include -I/Users/rblack/_dev/math-magik-mmtime/.direnv/python-3.10.4/include -I/usr/local/opt/python@3.10/Frameworks/Python.framework/Versions/3.10/include/python3.10 -c'\u001b[0m\n",
      "\u001b[39mINFO: clang: /var/folders/ws/5h_x4h713cg8w0jmrm5_tfzc0000gn/T/tmpv7hb703u/src.macosx-12-x86_64-3.10/fortranobject.c\u001b[0m\n",
      "\u001b[39mINFO: clang: /var/folders/ws/5h_x4h713cg8w0jmrm5_tfzc0000gn/T/tmpv7hb703u/src.macosx-12-x86_64-3.10/norm1module.c\u001b[0m\n",
      "In file included from /var/folders/ws/5h_x4h713cg8w0jmrm5_tfzc0000gn/T/tmpv7hb703u/src.macosx-12-x86_64-3.10/norm1module.c:20:\n",
      "In file included from /var/folders/ws/5h_x4h713cg8w0jmrm5_tfzc0000gn/T/tmpv7hb703u/src.macosx-12-x86_64-3.10/fortranobject.h:13:\n",
      "In file included from /Users/rblack/_dev/math-magik-mmtime/.direnv/python-3.10.4/lib/python3.10/site-packages/numpy/core/include/numpy/arrayobject.hIn file included from :/var/folders/ws/5h_x4h713cg8w0jmrm5_tfzc0000gn/T/tmpv7hb703u/src.macosx-12-x86_64-3.10/fortranobject.c5::\n",
      "2In file included from :\n",
      "/Users/rblack/_dev/math-magik-mmtime/.direnv/python-3.10.4/lib/python3.10/site-packages/numpy/core/include/numpy/ndarrayobject.hIn file included from :/var/folders/ws/5h_x4h713cg8w0jmrm5_tfzc0000gn/T/tmpv7hb703u/src.macosx-12-x86_64-3.10/fortranobject.h12::\n",
      "13In file included from :\n",
      "/Users/rblack/_dev/math-magik-mmtime/.direnv/python-3.10.4/lib/python3.10/site-packages/numpy/core/include/numpy/ndarraytypes.hIn file included from :/Users/rblack/_dev/math-magik-mmtime/.direnv/python-3.10.4/lib/python3.10/site-packages/numpy/core/include/numpy/arrayobject.h:5:\n",
      "In file included from /Users/rblack/_dev/math-magik-mmtime/.direnv/python-3.10.4/lib/python3.10/site-packages/numpy/core/include/numpy/ndarrayobject.h:12:\n",
      "In file included from /Users/rblack/_dev/math-magik-mmtime/.direnv/python-3.10.4/lib/python3.10/site-packages/numpy/core/include/numpy/ndarraytypes.h:1960:\n",
      "\u001b[1m/Users/rblack/_dev/math-magik-mmtime/.direnv/python-3.10.4/lib/python3.10/site-packages/numpy/core/include/numpy/npy_1_7_deprecated_api.h1960:17:2::\n",
      " \u001b[0m\u001b[0;1;35m\u001b[1mwarning: \u001b[0m/Users/rblack/_dev/math-magik-mmtime/.direnv/python-3.10.4/lib/python3.10/site-packages/numpy/core/include/numpy/npy_1_7_deprecated_api.h\u001b[1m:\"Using deprecated NumPy API, disable it with \"          \"#define NPY_NO_DEPRECATED_API NPY_1_7_API_VERSION\" [-W#warnings]17\u001b[0m:\n",
      "2: \u001b[0m\u001b[0;1;35mwarning: \u001b[0m\u001b[1m\"Using deprecated NumPy API, disable it with \"          \"#define NPY_NO_DEPRECATED_API NPY_1_7_API_VERSION\" [-W#warnings]\u001b[0m\n",
      "#warning \"Using deprecated NumPy API, disable it with \" \\#warning \"Using deprecated NumPy API, disable it with \" \\\n",
      "\u001b[0;1;32m ^\n",
      "\n",
      "\u001b[0m\u001b[0;1;32m ^\n",
      "\u001b[0m\u001b[1m/var/folders/ws/5h_x4h713cg8w0jmrm5_tfzc0000gn/T/tmpv7hb703u/src.macosx-12-x86_64-3.10/norm1module.c:148:12: \u001b[0m\u001b[0;1;35mwarning: \u001b[0m\u001b[1munused function 'f2py_size' [-Wunused-function]\u001b[0m\n",
      "static int f2py_size(PyArrayObject* var, ...)\n",
      "\u001b[0;1;32m           ^\n",
      "\u001b[0m2 warnings generated.\n",
      "1 warning generated.\n",
      "\u001b[39mINFO: compiling Fortran sources\u001b[0m\n",
      "\u001b[39mINFO: Fortran f77 compiler: /usr/local/bin/gfortran -Wall -g -ffixed-form -fno-second-underscore -fPIC -O3 -funroll-loops\n",
      "Fortran f90 compiler: /usr/local/bin/gfortran -Wall -g -fno-second-underscore -fPIC -O3 -funroll-loops\n",
      "Fortran fix compiler: /usr/local/bin/gfortran -Wall -g -ffixed-form -fno-second-underscore -Wall -g -fno-second-underscore -fPIC -O3 -funroll-loops\u001b[0m\n",
      "\u001b[39mcreating /var/folders/ws/5h_x4h713cg8w0jmrm5_tfzc0000gn/T/tmpv7hb703u/book\u001b[0m\n",
      "\u001b[39mcreating /var/folders/ws/5h_x4h713cg8w0jmrm5_tfzc0000gn/T/tmpv7hb703u/book/tmp\u001b[0m\n",
      "\u001b[39mINFO: compile options: '-I/var/folders/ws/5h_x4h713cg8w0jmrm5_tfzc0000gn/T/tmpv7hb703u/src.macosx-12-x86_64-3.10 -I/Users/rblack/_dev/math-magik-mmtime/.direnv/python-3.10.4/lib/python3.10/site-packages/numpy/core/include -I/Users/rblack/_dev/math-magik-mmtime/.direnv/python-3.10.4/include -I/usr/local/opt/python@3.10/Frameworks/Python.framework/Versions/3.10/include/python3.10 -c'\u001b[0m\n",
      "\u001b[39mINFO: gfortran:f90: ../tmp/vector_norm.f90\u001b[0m\n"
     ]
    },
    {
     "name": "stdout",
     "output_type": "stream",
     "text": [
      "\u001b[39mINFO: gfortran:f77: /var/folders/ws/5h_x4h713cg8w0jmrm5_tfzc0000gn/T/tmpv7hb703u/src.macosx-12-x86_64-3.10/norm1-f2pywrappers.f\u001b[0m\n",
      "\u001b[39mINFO: /usr/local/bin/gfortran -Wall -g -Wall -g -undefined dynamic_lookup -bundle /var/folders/ws/5h_x4h713cg8w0jmrm5_tfzc0000gn/T/tmpv7hb703u/var/folders/ws/5h_x4h713cg8w0jmrm5_tfzc0000gn/T/tmpv7hb703u/src.macosx-12-x86_64-3.10/norm1module.o /var/folders/ws/5h_x4h713cg8w0jmrm5_tfzc0000gn/T/tmpv7hb703u/var/folders/ws/5h_x4h713cg8w0jmrm5_tfzc0000gn/T/tmpv7hb703u/src.macosx-12-x86_64-3.10/fortranobject.o /var/folders/ws/5h_x4h713cg8w0jmrm5_tfzc0000gn/T/tmpv7hb703u/book/tmp/vector_norm.o /var/folders/ws/5h_x4h713cg8w0jmrm5_tfzc0000gn/T/tmpv7hb703u/var/folders/ws/5h_x4h713cg8w0jmrm5_tfzc0000gn/T/tmpv7hb703u/src.macosx-12-x86_64-3.10/norm1-f2pywrappers.o -L/usr/local/Cellar/gcc/11.3.0_1/bin/../lib/gcc/11/gcc/x86_64-apple-darwin21/11 -L/usr/local/Cellar/gcc/11.3.0_1/bin/../lib/gcc/11/gcc/x86_64-apple-darwin21/11/../../.. -L/usr/local/Cellar/gcc/11.3.0_1/bin/../lib/gcc/11/gcc/x86_64-apple-darwin21/11/../../.. -lgfortran -o ./norm1.cpython-310-darwin.so\u001b[0m\n",
      "ld: warning: dylib (/usr/local/Cellar/gcc/11.3.0_1/lib/gcc/11/libgfortran.dylib) was built for newer macOS version (12.2) than being linked (12.0)\n",
      "ld: warning: dylib (/usr/local/Cellar/gcc/11.3.0_1/lib/gcc/11/libquadmath.dylib) was built for newer macOS version (12.2) than being linked (12.0)\n",
      "Removing build directory /var/folders/ws/5h_x4h713cg8w0jmrm5_tfzc0000gn/T/tmpv7hb703u\n"
     ]
    }
   ],
   "source": [
    "!python -m numpy.f2py -c ../tmp/vector_norm.f90 -m norm1"
   ]
  },
  {
   "cell_type": "code",
   "execution_count": 28,
   "id": "366c6ac8",
   "metadata": {},
   "outputs": [
    {
     "data": {
      "text/plain": [
       "['__doc__',\n",
       " '__f2py_numpy_version__',\n",
       " '__file__',\n",
       " '__loader__',\n",
       " '__name__',\n",
       " '__package__',\n",
       " '__spec__',\n",
       " '__version__',\n",
       " '_norm1_error',\n",
       " 'vector_norm']"
      ]
     },
     "execution_count": 28,
     "metadata": {},
     "output_type": "execute_result"
    }
   ],
   "source": [
    "import norm1\n",
    "dir(norm1)"
   ]
  },
  {
   "cell_type": "code",
   "execution_count": 31,
   "id": "728fd1b9",
   "metadata": {},
   "outputs": [
    {
     "data": {
      "text/plain": [
       "41.0325927734375"
      ]
     },
     "execution_count": 31,
     "metadata": {},
     "output_type": "execute_result"
    }
   ],
   "source": [
    "import numpy as np\n",
    "v = np.linspace(0,10)\n",
    "norm1.vector_norm(v)"
   ]
  },
  {
   "cell_type": "markdown",
   "id": "2ba09d63",
   "metadata": {},
   "source": [
    "Looks like that works nocely, and the interface between Python and Fortran is much smoother!"
   ]
  },
  {
   "cell_type": "code",
   "execution_count": null,
   "id": "3d0c2b8c",
   "metadata": {},
   "outputs": [],
   "source": []
  }
 ],
 "metadata": {
  "kernelspec": {
   "display_name": "Python 3 (ipykernel)",
   "language": "python",
   "name": "python3"
  },
  "language_info": {
   "codemirror_mode": {
    "name": "ipython",
    "version": 3
   },
   "file_extension": ".py",
   "mimetype": "text/x-python",
   "name": "python",
   "nbconvert_exporter": "python",
   "pygments_lexer": "ipython3",
   "version": "3.10.4"
  },
  "toc": {
   "base_numbering": 1,
   "nav_menu": {},
   "number_sections": true,
   "sideBar": true,
   "skip_h1_title": false,
   "title_cell": "Table of Contents",
   "title_sidebar": "Contents",
   "toc_cell": false,
   "toc_position": {},
   "toc_section_display": true,
   "toc_window_display": false
  },
  "varInspector": {
   "cols": {
    "lenName": 16,
    "lenType": 16,
    "lenVar": 40
   },
   "kernels_config": {
    "python": {
     "delete_cmd_postfix": "",
     "delete_cmd_prefix": "del ",
     "library": "var_list.py",
     "varRefreshCmd": "print(var_dic_list())"
    },
    "r": {
     "delete_cmd_postfix": ") ",
     "delete_cmd_prefix": "rm(",
     "library": "var_list.r",
     "varRefreshCmd": "cat(var_dic_list()) "
    }
   },
   "types_to_exclude": [
    "module",
    "function",
    "builtin_function_or_method",
    "instance",
    "_Feature"
   ],
   "window_display": false
  }
 },
 "nbformat": 4,
 "nbformat_minor": 5
}
